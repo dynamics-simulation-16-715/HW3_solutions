{
 "cells": [
  {
   "cell_type": "code",
   "execution_count": 1,
   "id": "recent-fifteen",
   "metadata": {},
   "outputs": [
    {
     "name": "stderr",
     "output_type": "stream",
     "text": [
      "\u001b[32m\u001b[1m  Activating\u001b[22m\u001b[39m environment at `~/devel/dynamics-simulation-16-715/HW3_solutions/Project.toml`\n"
     ]
    }
   ],
   "source": [
    "using Pkg; Pkg.activate(@__DIR__); Pkg.instantiate()"
   ]
  },
  {
   "cell_type": "code",
   "execution_count": 2,
   "id": "imported-endorsement",
   "metadata": {},
   "outputs": [],
   "source": [
    "using LinearAlgebra\n",
    "using MeshCat\n",
    "using CoordinateTransformations\n",
    "using Rotations\n",
    "using GeometryBasics: HyperRectangle, Vec, Point, Mesh\n",
    "using Colors: RGBA, RGB"
   ]
  },
  {
   "cell_type": "code",
   "execution_count": 3,
   "id": "endangered-microphone",
   "metadata": {},
   "outputs": [
    {
     "name": "stderr",
     "output_type": "stream",
     "text": [
      "┌ Info: MeshCat server started. You can open the visualizer by visiting the following URL in your browser:\n",
      "│ http://127.0.0.1:8702\n",
      "└ @ MeshCat /Users/kevintracy/.julia/packages/MeshCat/RLYij/src/visualizer.jl:73\n"
     ]
    },
    {
     "data": {
      "text/html": [
       "    <div style=\"height: 500px; width: 100%; overflow-x: auto; overflow-y: hidden; resize: both\">\n",
       "    <iframe src=\"http://127.0.0.1:8702\" style=\"width: 100%; height: 100%; border: none\"></iframe>\n",
       "    </div>\n"
      ],
      "text/plain": [
       "MeshCat.DisplayedVisualizer(MeshCat.CoreVisualizer(MeshCat.SceneTrees.SceneNode(nothing, nothing, Dict{String, Vector{UInt8}}(), nothing, Dict{String, MeshCat.SceneTrees.SceneNode}()), Set{Any}(), ip\"127.0.0.1\", 8702))"
      ]
     },
     "execution_count": 3,
     "metadata": {},
     "output_type": "execute_result"
    }
   ],
   "source": [
    "vis = Visualizer()\n",
    "render(vis)"
   ]
  },
  {
   "cell_type": "code",
   "execution_count": 26,
   "id": "conventional-durham",
   "metadata": {},
   "outputs": [],
   "source": [
    "delete!(vis)\n",
    "t_vec = 1:0.01:10\n",
    "\n",
    "# our box \n",
    "box = HyperRectangle(Vec(-0.5, -.5, -0.5), Vec(1, 1, 1))\n",
    "setobject!(vis[\"box\"],box)\n",
    "\n",
    "# position history \n",
    "r_hist = [ [sin(t_vec[i]/5);cos(t_vec[i]/8);sin(t_vec[i]/3)] for i = 1:length(t_vec)]\n",
    "for i = 1:length(t_vec)\n",
    "    \n",
    "    # attitude \n",
    "    r = normalize([sin(t_vec[i]/7);cos(t_vec[i]/8);sin(t_vec[i])/3])\n",
    "    θ = sin(t_vec[i]/4)\n",
    "    q = [cos(θ/2);r*sin(θ/2)]\n",
    "    \n",
    "    # set position and attitude\n",
    "    attitude = LinearMap(UnitQuaternion(q))\n",
    "    position = Translation(r_hist[i]...)\n",
    "\n",
    "    settransform!(vis[\"box\"], compose(position,attitude))\n",
    "    sleep(0.005)\n",
    "end"
   ]
  }
 ],
 "metadata": {
  "kernelspec": {
   "display_name": "Julia 1.6.0",
   "language": "julia",
   "name": "julia-1.6"
  },
  "language_info": {
   "file_extension": ".jl",
   "mimetype": "application/julia",
   "name": "julia",
   "version": "1.6.2"
  }
 },
 "nbformat": 4,
 "nbformat_minor": 5
}
